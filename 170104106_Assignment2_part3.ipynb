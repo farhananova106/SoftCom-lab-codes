{
  "nbformat": 4,
  "nbformat_minor": 0,
  "metadata": {
    "colab": {
      "name": "170104106_Assignment2_part3.ipynb",
      "provenance": [],
      "collapsed_sections": []
    },
    "kernelspec": {
      "name": "python3",
      "display_name": "Python 3"
    },
    "language_info": {
      "name": "python"
    }
  },
  "cells": [
    {
      "cell_type": "code",
      "metadata": {
        "id": "I-_QG27vSL05"
      },
      "source": [
        "import os\n",
        "import pandas as pd\n",
        "import torch\n",
        "from torch.utils.data import Dataset, DataLoader  \n",
        "from skimage import io"
      ],
      "execution_count": 1,
      "outputs": []
    },
    {
      "cell_type": "code",
      "metadata": {
        "id": "3bER0O9nSYVN"
      },
      "source": [
        "import torch\n",
        "import torch.nn as nn\n",
        "import torchvision.transforms as transforms"
      ],
      "execution_count": 2,
      "outputs": []
    },
    {
      "cell_type": "code",
      "metadata": {
        "id": "6DUTcGcvSZC0",
        "colab": {
          "base_uri": "https://localhost:8080/"
        },
        "outputId": "7579fddc-bc8b-4bf2-8547-68d6bffe0515"
      },
      "source": [
        "from google.colab import drive\n",
        "drive.mount('/content/drive')"
      ],
      "execution_count": 3,
      "outputs": [
        {
          "output_type": "stream",
          "name": "stdout",
          "text": [
            "Mounted at /content/drive\n"
          ]
        }
      ]
    },
    {
      "cell_type": "code",
      "metadata": {
        "id": "yU7JmPDOSaic",
        "colab": {
          "base_uri": "https://localhost:8080/"
        },
        "outputId": "5a5aa8b6-f6c4-4e1c-bf26-715215b12045"
      },
      "source": [
        "!unzip \"/content/drive/MyDrive/SoftCom/Dataset_2.zip\""
      ],
      "execution_count": 4,
      "outputs": [
        {
          "output_type": "stream",
          "name": "stdout",
          "text": [
            "Archive:  /content/drive/MyDrive/SoftCom/Dataset_2.zip\n",
            "   creating: Dataset_2/\n",
            "  inflating: Dataset_2/t10k-images-idx3-ubyte  \n",
            "  inflating: Dataset_2/t10k-labels-idx1-ubyte  \n",
            "  inflating: Dataset_2/train-images-idx3-ubyte  \n",
            "  inflating: Dataset_2/train-labels-idx1-ubyte  \n",
            "  inflating: Dataset_2/verification_test.csv  \n",
            "  inflating: Dataset_2/verification_train.csv  \n"
          ]
        }
      ]
    },
    {
      "cell_type": "code",
      "metadata": {
        "id": "feFpv7fASgHM"
      },
      "source": [
        "train_csv  = pd.read_csv('/content/Dataset_2/verification_train.csv')\n",
        "test_csv = pd.read_csv('/content/Dataset_2/verification_test.csv')"
      ],
      "execution_count": 5,
      "outputs": []
    },
    {
      "cell_type": "code",
      "metadata": {
        "id": "jKieSyGTSjRE"
      },
      "source": [
        "import numpy as np\n",
        "class second_Dataset(Dataset):\n",
        "    \"\"\"User defined class to build a datset using Pytorch class Dataset.\"\"\"\n",
        "    \n",
        "    def __init__(self, data, transform = None):\n",
        "        \"\"\"Method to initilaize variables.\"\"\" \n",
        "        self.data_MNIST = list(data.values)\n",
        "        self.transform = transform\n",
        "        \n",
        "        label = []\n",
        "        image = []\n",
        "        \n",
        "        for i in self.data_MNIST:\n",
        "             # first column is of labels.\n",
        "            label.append(i[0])\n",
        "            image.append(i[1:])\n",
        "        self.labels = np.asarray(label)\n",
        "        self.images = np.asarray(image).reshape(-1, 28, 28, 1).astype('float32')\n",
        "\n",
        "    def __getitem__(self, index):\n",
        "        label = self.labels[index]\n",
        "        image = self.images[index]\n",
        "        \n",
        "        if self.transform is not None:\n",
        "            image = self.transform(image)\n",
        "\n",
        "        return image, label\n",
        "\n",
        "    def __len__(self):\n",
        "        return len(self.images)"
      ],
      "execution_count": 6,
      "outputs": []
    },
    {
      "cell_type": "code",
      "metadata": {
        "id": "jEeE5VnNSkY0"
      },
      "source": [
        "train_set = second_Dataset(train_csv, transform=transforms.Compose([transforms.ToTensor()]))\n",
        "test_set = second_Dataset(test_csv, transform=transforms.Compose([transforms.ToTensor()]))\n",
        "\n",
        "train_loader = DataLoader(train_set, batch_size=100)\n",
        "test_loader = DataLoader(train_set, batch_size=100)"
      ],
      "execution_count": 7,
      "outputs": []
    },
    {
      "cell_type": "code",
      "metadata": {
        "id": "vn_hjnsPSnt8",
        "colab": {
          "base_uri": "https://localhost:8080/"
        },
        "outputId": "c988428c-902f-443a-946f-2b7dc1e89a8b"
      },
      "source": [
        "print(len(train_set))\n",
        "print(len(test_set))"
      ],
      "execution_count": 9,
      "outputs": [
        {
          "output_type": "stream",
          "name": "stdout",
          "text": [
            "60000\n",
            "10000\n"
          ]
        }
      ]
    },
    {
      "cell_type": "code",
      "metadata": {
        "id": "5TkAmFcuSpxU",
        "colab": {
          "base_uri": "https://localhost:8080/"
        },
        "outputId": "f215cce5-40fb-4814-8373-1d23cc47e30a"
      },
      "source": [
        "# Hyperparameters\n",
        "\n",
        "batch_size = 20\n",
        "num_iters = 20000\n",
        "input_dim = 28*28 # num_features = 784\n",
        "num_hidden = 200 # num of hidden nodes\n",
        "output_dim = 10\n",
        "\n",
        "learning_rate = 0.01  \n",
        "\n",
        "\n",
        "device = torch.device(\"cuda:0\" if torch.cuda.is_available() else \"cpu\")\n",
        "\n",
        "\n",
        "\n",
        "\n",
        "'''\n",
        "MAKING DATASET ITERABLE\n",
        "'''\n",
        "num_epochs = num_iters / (len(train_set) / batch_size)\n",
        "num_epochs = int(num_epochs)\n",
        "\n",
        "train_loader = torch.utils.data.DataLoader(dataset=train_set, \n",
        "                                           batch_size=batch_size, \n",
        "                                           shuffle=True)   # It's better to shuffle the whole training dataset! \n",
        "\n",
        "test_loader = torch.utils.data.DataLoader(dataset=test_set, \n",
        "                                          batch_size=batch_size, \n",
        "                                          shuffle=False)\n",
        "\n",
        "\n",
        "\n",
        "\n",
        "\n",
        "class DeepNeuralNetworkModel(nn.Module):\n",
        "    def __init__(self, input_size, num_classes, num_hidden):\n",
        "        super().__init__()\n",
        "        ### 1st hidden layer: 784 --> 100\n",
        "        self.linear_1 = nn.Linear(input_size, num_hidden)\n",
        "        ### Non-linearity in 1st hidden layer\n",
        "        self.relu_1 = nn.ReLU()\n",
        "\n",
        "        ### 2nd hidden layer: 100 --> 100\n",
        "        self.linear_2 = nn.Linear(num_hidden, num_hidden)\n",
        "        ### Non-linearity in 2nd hidden layer\n",
        "        self.relu_2 = nn.ReLU()\n",
        "\n",
        "        ### 3rd hidden layer: 100 --> 100\n",
        "        self.linear_3 = nn.Linear(num_hidden, num_hidden)\n",
        "        ### Non-linearity in 2nd hidden layer\n",
        "        self.relu_3 = nn.ReLU()\n",
        "\n",
        "        ### 4th hidden layer: 100 --> 100\n",
        "        self.linear_4 = nn.Linear(num_hidden, num_hidden)\n",
        "        ### Non-linearity in 2nd hidden layer\n",
        "        self.relu_4 = nn.ReLU()\n",
        "\n",
        "        ### 5th hidden layer: 100 --> 100\n",
        "        self.linear_5 = nn.Linear(num_hidden, num_hidden)\n",
        "        ### Non-linearity in 2nd hidden layer\n",
        "        self.relu_5 = nn.ReLU()\n",
        "\n",
        "        ### 6th hidden layer: 100 --> 100\n",
        "        self.linear_6 = nn.Linear(num_hidden, num_hidden)\n",
        "        ### Non-linearity in 2nd hidden layer\n",
        "        self.relu_6 = nn.ReLU()\n",
        "\n",
        "        ### Output layer: 100 --> 10\n",
        "        self.linear_out = nn.Linear(num_hidden, num_classes)\n",
        "\n",
        "    def forward(self, x):\n",
        "        ### 1st hidden layer\n",
        "        out  = self.linear_1(x)\n",
        "        ### Non-linearity in 1st hidden layer\n",
        "        out = self.relu_1(out)\n",
        "        \n",
        "        ### 2nd hidden layer\n",
        "        out  = self.linear_2(out)\n",
        "        ### Non-linearity in 2nd hidden layer\n",
        "        out = self.relu_2(out)\n",
        "        \n",
        "        ### 3rd hidden layer\n",
        "        out  = self.linear_3(out)\n",
        "        ### Non-linearity in 1st hidden layer\n",
        "        out = self.relu_3(out)\n",
        "        \n",
        "        ### 4th hidden layer\n",
        "        out  = self.linear_4(out)\n",
        "        ### Non-linearity in 2nd hidden layer\n",
        "        out = self.relu_4(out)\n",
        "\n",
        "        ### 5th hidden layer\n",
        "        out  = self.linear_5(out)\n",
        "        ### Non-linearity in 1st hidden layer\n",
        "        out = self.relu_5(out)\n",
        "        \n",
        "        ### 6th hidden layer\n",
        "        out  = self.linear_6(out)\n",
        "        ### Non-linearity in 2nd hidden layer\n",
        "        out = self.relu_6(out)\n",
        "     \n",
        "        # Linear layer (output)\n",
        "        probas  = self.linear_out(out)\n",
        "        return probas\n",
        "\n",
        "\n",
        "# INSTANTIATE MODEL CLASS\n",
        "\n",
        "model = DeepNeuralNetworkModel(input_size = input_dim,\n",
        "                               num_classes = output_dim,\n",
        "                               num_hidden = num_hidden)\n",
        "# To enable GPU\n",
        "model.to(device)\n",
        "\n",
        "# INSTANTIATE LOSS & OPTIMIZER CLASS\n",
        "\n",
        "criterion = nn.CrossEntropyLoss()\n",
        "optimizer = torch.optim.SGD(model.parameters(), lr=learning_rate)\n",
        "iteration_loss= []\n",
        "iter = 0\n",
        "for epoch in range(num_epochs):\n",
        "    for i, (images, labels) in enumerate(train_loader):\n",
        "\n",
        "        images = images.view(-1, 28*28).to(device)\n",
        "        labels = labels.to(device)\n",
        "\n",
        "        # Clear gradients w.r.t. parameters\n",
        "        optimizer.zero_grad()\n",
        "\n",
        "        # Forward pass to get output/logits\n",
        "        outputs = model(images) \n",
        "\n",
        "        # Calculate Loss: softmax --> cross entropy loss\n",
        "        loss = criterion(outputs, labels)\n",
        "\n",
        "        # Getting gradients w.r.t. parameters\n",
        "        loss.backward()\n",
        "\n",
        "        # Updating parameters\n",
        "        optimizer.step()\n",
        "\n",
        "        iter += 1\n",
        "\n",
        "        if iter % 500 == 0:\n",
        "            # Calculate Accuracy         \n",
        "            correct = 0\n",
        "            total = 0\n",
        "            # Iterate through test dataset\n",
        "            for images, labels in test_loader:\n",
        "               \n",
        "                images = images.view(-1, 28*28).to(device)\n",
        "\n",
        "                # Forward pass only to get logits/output\n",
        "                outputs = model(images)\n",
        "\n",
        "                # Get predictions from the maximum value\n",
        "                _, predicted = torch.max(outputs, 1)\n",
        "\n",
        "                # Total number of labels\n",
        "                total += labels.size(0)\n",
        "\n",
        "\n",
        "                # Total correct predictions\n",
        "                if torch.cuda.is_available():\n",
        "                    correct += (predicted.cpu() == labels.cpu()).sum() \n",
        "                else:\n",
        "                    correct += (predicted == labels).sum()\n",
        "\n",
        "            accuracy = 100 * correct.item() / total\n",
        "\n",
        "            # Print Loss\n",
        "            iteration_loss.append(loss.item())\n",
        "            print('Iteration No: {}.\\n Loss Value: {}.\\n Accuracy Value: {}\\n'.format(iter, loss.item(), accuracy))"
      ],
      "execution_count": 10,
      "outputs": [
        {
          "output_type": "stream",
          "name": "stdout",
          "text": [
            "Iteration No: 500.\n",
            " Loss Value: 0.6243300437927246.\n",
            " Accuracy Value: 80.18\n",
            "\n",
            "Iteration No: 1000.\n",
            " Loss Value: 0.7441383004188538.\n",
            " Accuracy Value: 79.58\n",
            "\n",
            "Iteration No: 1500.\n",
            " Loss Value: 0.21704360842704773.\n",
            " Accuracy Value: 83.62\n",
            "\n",
            "Iteration No: 2000.\n",
            " Loss Value: 0.5760945081710815.\n",
            " Accuracy Value: 79.34\n",
            "\n",
            "Iteration No: 2500.\n",
            " Loss Value: 0.31595778465270996.\n",
            " Accuracy Value: 79.93\n",
            "\n",
            "Iteration No: 3000.\n",
            " Loss Value: 0.6680461764335632.\n",
            " Accuracy Value: 84.61\n",
            "\n",
            "Iteration No: 3500.\n",
            " Loss Value: 0.3258109390735626.\n",
            " Accuracy Value: 85.07\n",
            "\n",
            "Iteration No: 4000.\n",
            " Loss Value: 0.36457550525665283.\n",
            " Accuracy Value: 82.65\n",
            "\n",
            "Iteration No: 4500.\n",
            " Loss Value: 0.12771601974964142.\n",
            " Accuracy Value: 85.43\n",
            "\n",
            "Iteration No: 5000.\n",
            " Loss Value: 0.6910598874092102.\n",
            " Accuracy Value: 85.29\n",
            "\n",
            "Iteration No: 5500.\n",
            " Loss Value: 0.3269910216331482.\n",
            " Accuracy Value: 86.43\n",
            "\n",
            "Iteration No: 6000.\n",
            " Loss Value: 0.4367613196372986.\n",
            " Accuracy Value: 86.39\n",
            "\n",
            "Iteration No: 6500.\n",
            " Loss Value: 0.6970871686935425.\n",
            " Accuracy Value: 85.84\n",
            "\n",
            "Iteration No: 7000.\n",
            " Loss Value: 0.34193894267082214.\n",
            " Accuracy Value: 85.1\n",
            "\n",
            "Iteration No: 7500.\n",
            " Loss Value: 0.2109731137752533.\n",
            " Accuracy Value: 85.21\n",
            "\n",
            "Iteration No: 8000.\n",
            " Loss Value: 0.7570395469665527.\n",
            " Accuracy Value: 84.5\n",
            "\n",
            "Iteration No: 8500.\n",
            " Loss Value: 0.12791487574577332.\n",
            " Accuracy Value: 87.28\n",
            "\n",
            "Iteration No: 9000.\n",
            " Loss Value: 0.3390199840068817.\n",
            " Accuracy Value: 86.13\n",
            "\n",
            "Iteration No: 9500.\n",
            " Loss Value: 0.47221535444259644.\n",
            " Accuracy Value: 85.74\n",
            "\n",
            "Iteration No: 10000.\n",
            " Loss Value: 0.22221429646015167.\n",
            " Accuracy Value: 84.45\n",
            "\n",
            "Iteration No: 10500.\n",
            " Loss Value: 0.4898499846458435.\n",
            " Accuracy Value: 87.58\n",
            "\n",
            "Iteration No: 11000.\n",
            " Loss Value: 0.23179805278778076.\n",
            " Accuracy Value: 86.82\n",
            "\n",
            "Iteration No: 11500.\n",
            " Loss Value: 0.3167209327220917.\n",
            " Accuracy Value: 87.61\n",
            "\n",
            "Iteration No: 12000.\n",
            " Loss Value: 0.4956270754337311.\n",
            " Accuracy Value: 87.52\n",
            "\n",
            "Iteration No: 12500.\n",
            " Loss Value: 0.09602589160203934.\n",
            " Accuracy Value: 86.9\n",
            "\n",
            "Iteration No: 13000.\n",
            " Loss Value: 0.3210437297821045.\n",
            " Accuracy Value: 87.55\n",
            "\n",
            "Iteration No: 13500.\n",
            " Loss Value: 0.164852112531662.\n",
            " Accuracy Value: 86.97\n",
            "\n",
            "Iteration No: 14000.\n",
            " Loss Value: 0.21026520431041718.\n",
            " Accuracy Value: 87.35\n",
            "\n",
            "Iteration No: 14500.\n",
            " Loss Value: 0.456233412027359.\n",
            " Accuracy Value: 87.27\n",
            "\n",
            "Iteration No: 15000.\n",
            " Loss Value: 0.24254348874092102.\n",
            " Accuracy Value: 87.02\n",
            "\n",
            "Iteration No: 15500.\n",
            " Loss Value: 0.13321518898010254.\n",
            " Accuracy Value: 87.62\n",
            "\n",
            "Iteration No: 16000.\n",
            " Loss Value: 0.42772799730300903.\n",
            " Accuracy Value: 88.14\n",
            "\n",
            "Iteration No: 16500.\n",
            " Loss Value: 0.4341885447502136.\n",
            " Accuracy Value: 86.88\n",
            "\n",
            "Iteration No: 17000.\n",
            " Loss Value: 0.22072961926460266.\n",
            " Accuracy Value: 87.36\n",
            "\n",
            "Iteration No: 17500.\n",
            " Loss Value: 0.235541433095932.\n",
            " Accuracy Value: 87.33\n",
            "\n",
            "Iteration No: 18000.\n",
            " Loss Value: 0.3149202764034271.\n",
            " Accuracy Value: 88.04\n",
            "\n"
          ]
        }
      ]
    },
    {
      "cell_type": "code",
      "metadata": {
        "colab": {
          "base_uri": "https://localhost:8080/",
          "height": 316
        },
        "id": "qSinyW9hCWCL",
        "outputId": "0960b26c-9fb4-42a3-93b9-e6289c8b404d"
      },
      "source": [
        "import matplotlib.pyplot as plt\n",
        "print (iteration_loss)\n",
        "plt.plot(iteration_loss)\n",
        "plt.ylabel('Loss')\n",
        "plt.xlabel('Iteration')\n",
        "plt.show()"
      ],
      "execution_count": 12,
      "outputs": [
        {
          "output_type": "stream",
          "name": "stdout",
          "text": [
            "[0.6243300437927246, 0.7441383004188538, 0.21704360842704773, 0.5760945081710815, 0.31595778465270996, 0.6680461764335632, 0.3258109390735626, 0.36457550525665283, 0.12771601974964142, 0.6910598874092102, 0.3269910216331482, 0.4367613196372986, 0.6970871686935425, 0.34193894267082214, 0.2109731137752533, 0.7570395469665527, 0.12791487574577332, 0.3390199840068817, 0.47221535444259644, 0.22221429646015167, 0.4898499846458435, 0.23179805278778076, 0.3167209327220917, 0.4956270754337311, 0.09602589160203934, 0.3210437297821045, 0.164852112531662, 0.21026520431041718, 0.456233412027359, 0.24254348874092102, 0.13321518898010254, 0.42772799730300903, 0.4341885447502136, 0.22072961926460266, 0.235541433095932, 0.3149202764034271]\n"
          ]
        },
        {
          "output_type": "display_data",
          "data": {
            "image/png": "[encoded data removed]",
            "text/plain": [
              "<Figure size 432x288 with 1 Axes>"
            ]
          },
          "metadata": {
            "needs_background": "light"
          }
        }
      ]
    }
  ]
}